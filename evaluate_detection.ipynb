{
  "nbformat": 4,
  "nbformat_minor": 0,
  "metadata": {
    "accelerator": "GPU",
    "colab": {
      "name": "evaluate_detection.ipynb",
      "provenance": [],
      "machine_shape": "hm",
      "authorship_tag": "ABX9TyNOhF/6qcEHXvFxLsNb1Uo5",
      "include_colab_link": true
    },
    "kernelspec": {
      "display_name": "Python 3",
      "name": "python3"
    },
    "language_info": {
      "name": "python"
    }
  },
  "cells": [
    {
      "cell_type": "markdown",
      "metadata": {
        "id": "view-in-github",
        "colab_type": "text"
      },
      "source": [
        "<a href=\"https://colab.research.google.com/github/vfrantc/dehaze_detect/blob/main/evaluate_detection.ipynb\" target=\"_parent\"><img src=\"https://colab.research.google.com/assets/colab-badge.svg\" alt=\"Open In Colab\"/></a>"
      ]
    },
    {
      "cell_type": "code",
      "metadata": {
        "colab": {
          "base_uri": "https://localhost:8080/"
        },
        "id": "uIQCp8e2_8Bp",
        "outputId": "b41d6c6d-13be-4e5a-8980-8ab06a9b884d"
      },
      "source": [
        "!nvidia-smi"
      ],
      "execution_count": 1,
      "outputs": [
        {
          "output_type": "stream",
          "name": "stdout",
          "text": [
            "Tue Nov  2 10:41:20 2021       \n",
            "+-----------------------------------------------------------------------------+\n",
            "| NVIDIA-SMI 495.29.05    Driver Version: 460.32.03    CUDA Version: 11.2     |\n",
            "|-------------------------------+----------------------+----------------------+\n",
            "| GPU  Name        Persistence-M| Bus-Id        Disp.A | Volatile Uncorr. ECC |\n",
            "| Fan  Temp  Perf  Pwr:Usage/Cap|         Memory-Usage | GPU-Util  Compute M. |\n",
            "|                               |                      |               MIG M. |\n",
            "|===============================+======================+======================|\n",
            "|   0  Tesla P100-PCIE...  Off  | 00000000:00:04.0 Off |                    0 |\n",
            "| N/A   40C    P0    26W / 250W |      0MiB / 16280MiB |      0%      Default |\n",
            "|                               |                      |                  N/A |\n",
            "+-------------------------------+----------------------+----------------------+\n",
            "                                                                               \n",
            "+-----------------------------------------------------------------------------+\n",
            "| Processes:                                                                  |\n",
            "|  GPU   GI   CI        PID   Type   Process name                  GPU Memory |\n",
            "|        ID   ID                                                   Usage      |\n",
            "|=============================================================================|\n",
            "|  No running processes found                                                 |\n",
            "+-----------------------------------------------------------------------------+\n"
          ]
        }
      ]
    },
    {
      "cell_type": "code",
      "metadata": {
        "colab": {
          "base_uri": "https://localhost:8080/"
        },
        "id": "on0DGQ9zQNdF",
        "outputId": "900af3e3-247f-498e-eda3-61af4bae575e"
      },
      "source": [
        "from google.colab import drive\n",
        "drive.mount('drive')"
      ],
      "execution_count": 2,
      "outputs": [
        {
          "output_type": "stream",
          "name": "stdout",
          "text": [
            "Mounted at drive\n"
          ]
        }
      ]
    },
    {
      "cell_type": "markdown",
      "metadata": {
        "id": "SAF6J23sVoPA"
      },
      "source": [
        "# RUN DETECTOR ON UNPROCESSED IMAGES"
      ]
    },
    {
      "cell_type": "code",
      "metadata": {
        "colab": {
          "base_uri": "https://localhost:8080/",
          "height": 1000
        },
        "id": "8eRTCAE3S8j0",
        "outputId": "5ba9a959-49d9-4fb4-eea5-951f73ae8252"
      },
      "source": [
        "!pip install mmcv-full\n",
        "!rm -rf mmdetection\n",
        "!git clone https://github.com/open-mmlab/mmdetection.git\n",
        "%cd mmdetection\n",
        "!pip install -e .\n",
        "!pip install Pillow==7.0.0"
      ],
      "execution_count": 3,
      "outputs": [
        {
          "output_type": "stream",
          "name": "stdout",
          "text": [
            "Collecting mmcv-full\n",
            "  Downloading mmcv-full-1.3.16.tar.gz (389 kB)\n",
            "\u001b[K     |████████████████████████████████| 389 kB 10.0 MB/s \n",
            "\u001b[?25hCollecting addict\n",
            "  Downloading addict-2.4.0-py3-none-any.whl (3.8 kB)\n",
            "Requirement already satisfied: numpy in /usr/local/lib/python3.7/dist-packages (from mmcv-full) (1.19.5)\n",
            "Requirement already satisfied: packaging in /usr/local/lib/python3.7/dist-packages (from mmcv-full) (21.0)\n",
            "Requirement already satisfied: Pillow in /usr/local/lib/python3.7/dist-packages (from mmcv-full) (7.1.2)\n",
            "Requirement already satisfied: pyyaml in /usr/local/lib/python3.7/dist-packages (from mmcv-full) (3.13)\n",
            "Collecting yapf\n",
            "  Downloading yapf-0.31.0-py2.py3-none-any.whl (185 kB)\n",
            "\u001b[K     |████████████████████████████████| 185 kB 62.0 MB/s \n",
            "\u001b[?25hRequirement already satisfied: pyparsing>=2.0.2 in /usr/local/lib/python3.7/dist-packages (from packaging->mmcv-full) (2.4.7)\n",
            "Building wheels for collected packages: mmcv-full\n",
            "  Building wheel for mmcv-full (setup.py) ... \u001b[?25l\u001b[?25hdone\n",
            "  Created wheel for mmcv-full: filename=mmcv_full-1.3.16-cp37-cp37m-linux_x86_64.whl size=43663561 sha256=ec6f62866f7a81a03c8342d789ea7fcccb11387ec1b73da70da32f4784435f3b\n",
            "  Stored in directory: /root/.cache/pip/wheels/ea/0a/1e/95428dfef725d66e6693b61180b928c293489b6d13df3ae0e2\n",
            "Successfully built mmcv-full\n",
            "Installing collected packages: yapf, addict, mmcv-full\n",
            "Successfully installed addict-2.4.0 mmcv-full-1.3.16 yapf-0.31.0\n",
            "Cloning into 'mmdetection'...\n",
            "remote: Enumerating objects: 21524, done.\u001b[K\n",
            "remote: Total 21524 (delta 0), reused 0 (delta 0), pack-reused 21524\u001b[K\n",
            "Receiving objects: 100% (21524/21524), 25.05 MiB | 32.59 MiB/s, done.\n",
            "Resolving deltas: 100% (15119/15119), done.\n",
            "/content/mmdetection\n",
            "Obtaining file:///content/mmdetection\n",
            "Requirement already satisfied: matplotlib in /usr/local/lib/python3.7/dist-packages (from mmdet==2.18.0) (3.2.2)\n",
            "Requirement already satisfied: numpy in /usr/local/lib/python3.7/dist-packages (from mmdet==2.18.0) (1.19.5)\n",
            "Requirement already satisfied: six in /usr/local/lib/python3.7/dist-packages (from mmdet==2.18.0) (1.15.0)\n",
            "Collecting terminaltables\n",
            "  Downloading terminaltables-3.1.0.tar.gz (12 kB)\n",
            "Requirement already satisfied: pycocotools in /usr/local/lib/python3.7/dist-packages (from mmdet==2.18.0) (2.0.2)\n",
            "Requirement already satisfied: kiwisolver>=1.0.1 in /usr/local/lib/python3.7/dist-packages (from matplotlib->mmdet==2.18.0) (1.3.2)\n",
            "Requirement already satisfied: cycler>=0.10 in /usr/local/lib/python3.7/dist-packages (from matplotlib->mmdet==2.18.0) (0.10.0)\n",
            "Requirement already satisfied: python-dateutil>=2.1 in /usr/local/lib/python3.7/dist-packages (from matplotlib->mmdet==2.18.0) (2.8.2)\n",
            "Requirement already satisfied: pyparsing!=2.0.4,!=2.1.2,!=2.1.6,>=2.0.1 in /usr/local/lib/python3.7/dist-packages (from matplotlib->mmdet==2.18.0) (2.4.7)\n",
            "Requirement already satisfied: setuptools>=18.0 in /usr/local/lib/python3.7/dist-packages (from pycocotools->mmdet==2.18.0) (57.4.0)\n",
            "Requirement already satisfied: cython>=0.27.3 in /usr/local/lib/python3.7/dist-packages (from pycocotools->mmdet==2.18.0) (0.29.24)\n",
            "Building wheels for collected packages: terminaltables\n",
            "  Building wheel for terminaltables (setup.py) ... \u001b[?25l\u001b[?25hdone\n",
            "  Created wheel for terminaltables: filename=terminaltables-3.1.0-py3-none-any.whl size=15354 sha256=d2347db1e0134dcf42f606ed5b57fe9813fd68f8787333594dfcd05dc7b76bd8\n",
            "  Stored in directory: /root/.cache/pip/wheels/ba/ad/c8/2d98360791161cd3db6daf6b5e730f34021fc9367d5879f497\n",
            "Successfully built terminaltables\n",
            "Installing collected packages: terminaltables, mmdet\n",
            "  Running setup.py develop for mmdet\n",
            "Successfully installed mmdet-2.18.0 terminaltables-3.1.0\n",
            "Collecting Pillow==7.0.0\n",
            "  Downloading Pillow-7.0.0-cp37-cp37m-manylinux1_x86_64.whl (2.1 MB)\n",
            "\u001b[K     |████████████████████████████████| 2.1 MB 9.6 MB/s \n",
            "\u001b[?25hInstalling collected packages: Pillow\n",
            "  Attempting uninstall: Pillow\n",
            "    Found existing installation: Pillow 7.1.2\n",
            "    Uninstalling Pillow-7.1.2:\n",
            "      Successfully uninstalled Pillow-7.1.2\n",
            "\u001b[31mERROR: pip's dependency resolver does not currently take into account all the packages that are installed. This behaviour is the source of the following dependency conflicts.\n",
            "bokeh 2.3.3 requires pillow>=7.1.0, but you have pillow 7.0.0 which is incompatible.\n",
            "albumentations 0.1.12 requires imgaug<0.2.7,>=0.2.5, but you have imgaug 0.2.9 which is incompatible.\u001b[0m\n",
            "Successfully installed Pillow-7.0.0\n"
          ]
        },
        {
          "output_type": "display_data",
          "data": {
            "application/vnd.colab-display-data+json": {
              "pip_warning": {
                "packages": [
                  "PIL"
                ]
              }
            }
          },
          "metadata": {}
        }
      ]
    },
    {
      "cell_type": "code",
      "metadata": {
        "colab": {
          "base_uri": "https://localhost:8080/"
        },
        "id": "ky5w1Q0gYBZk",
        "outputId": "8adb9b7a-b091-4a43-b1c7-f24666f587fc"
      },
      "source": [
        "!mkdir checkpoints\n",
        "!wget -c https://download.openmmlab.com/mmdetection/v2.0/scnet/scnet_x101_64x4d_fpn_20e_coco/scnet_x101_64x4d_fpn_20e_coco-fb09dec9.pth \\\n",
        "      -O checkpoints/scnet_x101_64x4d_fpn_20e_coco-fb09dec9.pth"
      ],
      "execution_count": 4,
      "outputs": [
        {
          "output_type": "stream",
          "name": "stdout",
          "text": [
            "--2021-11-02 09:57:38--  https://download.openmmlab.com/mmdetection/v2.0/scnet/scnet_x101_64x4d_fpn_20e_coco/scnet_x101_64x4d_fpn_20e_coco-fb09dec9.pth\n",
            "Resolving download.openmmlab.com (download.openmmlab.com)... 47.88.36.78\n",
            "Connecting to download.openmmlab.com (download.openmmlab.com)|47.88.36.78|:443... connected.\n",
            "HTTP request sent, awaiting response... 200 OK\n",
            "Length: 611860651 (584M) [application/octet-stream]\n",
            "Saving to: ‘checkpoints/scnet_x101_64x4d_fpn_20e_coco-fb09dec9.pth’\n",
            "\n",
            "checkpoints/scnet_x 100%[===================>] 583.52M  11.2MB/s    in 54s     \n",
            "\n",
            "2021-11-02 09:58:33 (10.8 MB/s) - ‘checkpoints/scnet_x101_64x4d_fpn_20e_coco-fb09dec9.pth’ saved [611860651/611860651]\n",
            "\n"
          ]
        }
      ]
    },
    {
      "cell_type": "code",
      "metadata": {
        "colab": {
          "base_uri": "https://localhost:8080/"
        },
        "id": "qvNCLzC_Tc7O",
        "outputId": "e74ae05b-dc55-4777-c5c5-4cbfb39ce5a6"
      },
      "source": [
        "from glob import glob\n",
        "import os\n",
        "\n",
        "from mmcv import Config\n",
        "from mmdet.datasets import build_dataset\n",
        "from mmdet.datasets import build_dataloader\n",
        "from mmdet.apis import single_gpu_test\n",
        "from mmcv.parallel import MMDataParallel\n",
        "from mmdet.apis import inference_detector, init_detector, show_result_pyplot\n",
        "\n",
        "config = 'configs/scnet/scnet_x101_64x4d_fpn_20e_coco.py'\n",
        "checkpoint = 'checkpoints/scnet_x101_64x4d_fpn_20e_coco-fb09dec9.pth'\n",
        "model = init_detector(config, checkpoint, device='cuda:0')\n",
        "model = MMDataParallel(model, device_ids=[0])"
      ],
      "execution_count": 5,
      "outputs": [
        {
          "output_type": "stream",
          "name": "stdout",
          "text": [
            "Use load_from_local loader\n"
          ]
        }
      ]
    },
    {
      "cell_type": "code",
      "metadata": {
        "id": "AdwYSkrMzkJD"
      },
      "source": [
        "def create_dataset(folder):\n",
        "  cfg = Config.fromfile('./configs/scnet/scnet_x101_64x4d_fpn_20e_coco.py')\n",
        "  cfg.dataset_type = 'CocoDataset'\n",
        "  PREFIX = folder\n",
        "  cfg.data.test.img_prefix = folder\n",
        "  cfg.data.test.ann_file = os.path.join(PREFIX, 'new_test.json')\n",
        "  cfg.data.test.type = 'CocoDataset'\n",
        "  dataset = build_dataset(cfg.data.test)\n",
        "  #dataset.CLASSES = classes\n",
        "  #dataset.cat_ids = list(range(len(dataset.CLASSES)))\n",
        "  data_loader = build_dataloader(dataset, samples_per_gpu=1, workers_per_gpu=2, dist=False, shuffle=False)\n",
        "  return dataset, data_loader"
      ],
      "execution_count": 6,
      "outputs": []
    },
    {
      "cell_type": "code",
      "metadata": {
        "id": "ymWjae-uCQbs"
      },
      "source": [
        "!cp /content/drive/MyDrive/hazy_detect/out_gca.zip .\n",
        "!cp /content/drive/MyDrive/hazy_detect/dcp_coco.zip . \n",
        "!cp /content/drive/MyDrive/hazy_detect/out_refined.zip .\n",
        "!cp /content/drive/MyDrive/hazy_detect/dehazenet_coco.zip .\n",
        "!cp /content/drive/MyDrive/hazy_detect/ide_coco.zip .\n",
        "!cp /content/drive/MyDrive/hazy_detect/rtts_coco.zip ."
      ],
      "execution_count": 7,
      "outputs": []
    },
    {
      "cell_type": "code",
      "metadata": {
        "id": "o6HTXyAnCReo"
      },
      "source": [
        "!unzip -q out_gca.zip\n",
        "!unzip -q dcp_coco.zip\n",
        "!unzip -q out_refined.zip\n",
        "!unzip -q dehazenet_coco.zip\n",
        "!unzip -q ide_coco.zip\n",
        "!unzip -q rtts_coco.zip"
      ],
      "execution_count": 8,
      "outputs": []
    },
    {
      "cell_type": "markdown",
      "metadata": {
        "id": "Q4OO8u7l7eRR"
      },
      "source": [
        "### gca"
      ]
    },
    {
      "cell_type": "code",
      "metadata": {
        "colab": {
          "base_uri": "https://localhost:8080/"
        },
        "id": "moc3Kw7O6aBS",
        "outputId": "bb52f108-a639-4014-dab2-c3bfab6b5074"
      },
      "source": [
        "method = 'out_gca'\n",
        "!mkdir out_{method}\n",
        "dataset, data_loader = create_dataset(f'./{method}')\n",
        "outputs = single_gpu_test(model, data_loader, True, f'./out_{method}', 0.3)\n",
        "dataset.cat_ids.append(91)\n",
        "metric = dataset.evaluate(outputs, metric='bbox')\n",
        "\n",
        "!zip -r detected_gca.zip out_out_gca/\n",
        "!cp -r detected_gca.zip /content/drive/MyDrive/hazy_detect"
      ],
      "execution_count": null,
      "outputs": [
        {
          "output_type": "stream",
          "name": "stdout",
          "text": [
            "loading annotations into memory...\n",
            "Done (t=0.52s)\n",
            "creating index...\n",
            "index created!\n",
            "[                                                  ] 0/4320, elapsed: 0s, ETA:"
          ]
        },
        {
          "output_type": "stream",
          "name": "stderr",
          "text": [
            "/usr/local/lib/python3.7/dist-packages/torch/nn/functional.py:718: UserWarning: Named tensors and all their associated APIs are an experimental feature and subject to change. Please do not use them for anything important until they are released as stable. (Triggered internally at  /pytorch/c10/core/TensorImpl.h:1156.)\n",
            "  return torch.max_pool2d(input, kernel_size, stride, padding, dilation, ceil_mode)\n"
          ]
        },
        {
          "output_type": "stream",
          "name": "stdout",
          "text": [
            "[>>>>>>>>>>>>>>>>>>        ] 3075/4320, 1.5 task/s, elapsed: 2090s, ETA:   846s"
          ]
        }
      ]
    },
    {
      "cell_type": "markdown",
      "metadata": {
        "id": "78IJDfsH8A98"
      },
      "source": [
        "### dcp\n"
      ]
    },
    {
      "cell_type": "code",
      "metadata": {
        "id": "0nLvJU7m6gIR"
      },
      "source": [
        "method = 'dcp_coco'\n",
        "dataset, data_loader = create_dataset(f'./{method}')\n",
        "dataset.cat_ids.append(91)\n",
        "outputs = single_gpu_test(model, data_loader, True, f'./out_{method}', 0.3)\n",
        "metric = dataset.evaluate(outputs, metric='bbox')"
      ],
      "execution_count": null,
      "outputs": []
    },
    {
      "cell_type": "code",
      "metadata": {
        "id": "9ZDyAeC2CsG6"
      },
      "source": [
        "!zip -r detected_dcp.zip out_dcp_coco/\n",
        "!cp -r detected_dcp.zip /content/drive/MyDrive/hazy_detect"
      ],
      "execution_count": null,
      "outputs": []
    },
    {
      "cell_type": "markdown",
      "metadata": {
        "id": "KC9iTRNFCb5c"
      },
      "source": [
        "### Refined"
      ]
    },
    {
      "cell_type": "code",
      "metadata": {
        "id": "6L5okems6VV4"
      },
      "source": [
        "!cp /content/drive/MyDrive/new_test.json out_refined"
      ],
      "execution_count": null,
      "outputs": []
    },
    {
      "cell_type": "code",
      "metadata": {
        "id": "Uu7FH9CU7AR4"
      },
      "source": [
        "!ls out_refined/JPEGImages"
      ],
      "execution_count": null,
      "outputs": []
    },
    {
      "cell_type": "code",
      "metadata": {
        "id": "UDNtDvt76kOQ"
      },
      "source": [
        "method = 'out_refined'\n",
        "!rm -rf out_out_refined\n",
        "!mkdir out_{method}\n",
        "dataset, data_loader = create_dataset(f'./{method}')\n",
        "dataset.cat_ids.append(91)\n",
        "outputs = single_gpu_test(model, data_loader, True, f'./out_{method}', 0.3)\n",
        "metric = dataset.evaluate(outputs, metric='bbox')"
      ],
      "execution_count": null,
      "outputs": []
    },
    {
      "cell_type": "code",
      "metadata": {
        "id": "PW-vGzOpKVs2"
      },
      "source": [
        "!zip -r detected_refined.zip out_out_refined/\n",
        "!cp -r detected_refined.zip /content/drive/MyDrive/hazy_detect"
      ],
      "execution_count": null,
      "outputs": []
    },
    {
      "cell_type": "markdown",
      "metadata": {
        "id": "ch8UqLIDCeB3"
      },
      "source": [
        "# Dehazenet"
      ]
    },
    {
      "cell_type": "code",
      "metadata": {
        "id": "_jzT0DETBlpy"
      },
      "source": [
        "method = 'dehazenet_coco'\n",
        "!mkdir out_{method}\n",
        "dataset, data_loader = create_dataset(f'./{method}')\n",
        "dataset.cat_ids.append(91)\n",
        "outputs = single_gpu_test(model, data_loader, True, f'./out_{method}', 0.3)\n",
        "metric = dataset.evaluate(outputs, metric='bbox')"
      ],
      "execution_count": null,
      "outputs": []
    },
    {
      "cell_type": "code",
      "metadata": {
        "id": "wFC_0kpsKgqW"
      },
      "source": [
        "!zip -r detected_dehazenet.zip out_dehazenet/\n",
        "!cp -r detected_dehazenet.zip /content/drive/MyDrive/hazy_detect"
      ],
      "execution_count": null,
      "outputs": []
    },
    {
      "cell_type": "markdown",
      "metadata": {
        "id": "y_4VXMH-CgFE"
      },
      "source": [
        "# IDE"
      ]
    },
    {
      "cell_type": "code",
      "metadata": {
        "id": "lAGnp59wBmEk"
      },
      "source": [
        "method = 'dide_coco'\n",
        "!cp /content/drive/MyDrive/new_test.json dide_coco\n",
        "!mkdir out_{method}\n",
        "dataset, data_loader = create_dataset(f'./{method}')\n",
        "dataset.cat_ids.append(91)\n",
        "outputs = single_gpu_test(model, data_loader, True, f'./out_{method}', 0.3)\n",
        "metric = dataset.evaluate(outputs, metric='bbox')"
      ],
      "execution_count": null,
      "outputs": []
    },
    {
      "cell_type": "code",
      "metadata": {
        "id": "L1dlZ7E0LCWl"
      },
      "source": [
        "!zip -r detected_ide.zip out_ide_coco/\n",
        "!cp -r detected_ide.zip /content/drive/MyDrive/hazy_detect"
      ],
      "execution_count": null,
      "outputs": []
    },
    {
      "cell_type": "markdown",
      "metadata": {
        "id": "eYu6e-roCiRh"
      },
      "source": [
        "# RTTS"
      ]
    },
    {
      "cell_type": "code",
      "metadata": {
        "id": "oMGQr2dbBohB"
      },
      "source": [
        "method = 'rtts_coco'\n",
        "!mkdir out_{method}\n",
        "dataset, data_loader = create_dataset(f'./{method}')\n",
        "dataset.cat_ids.append(91)\n",
        "outputs = single_gpu_test(model, data_loader, True, f'./out_{method}', 0.3)\n",
        "metric = dataset.evaluate(outputs, metric='bbox')"
      ],
      "execution_count": null,
      "outputs": []
    },
    {
      "cell_type": "code",
      "metadata": {
        "id": "-7BVF4PQLVoc"
      },
      "source": [
        "!zip -r rtts_coco.zip out_rtts_coco/\n",
        "!cp -r rtts_coco.zip /content/drive/MyDrive/hazy_detect"
      ],
      "execution_count": null,
      "outputs": []
    },
    {
      "cell_type": "code",
      "metadata": {
        "id": "-oqGmdShMDIL"
      },
      "source": [
        ""
      ],
      "execution_count": null,
      "outputs": []
    }
  ]
}