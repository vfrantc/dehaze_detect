{
  "nbformat": 4,
  "nbformat_minor": 0,
  "metadata": {
    "accelerator": "GPU",
    "colab": {
      "name": "evaluate_detection.ipynb",
      "provenance": [],
      "machine_shape": "hm",
      "include_colab_link": true
    },
    "kernelspec": {
      "display_name": "Python 3",
      "name": "python3"
    },
    "language_info": {
      "name": "python"
    }
  },
  "cells": [
    {
      "cell_type": "markdown",
      "metadata": {
        "id": "view-in-github",
        "colab_type": "text"
      },
      "source": [
        "<a href=\"https://colab.research.google.com/github/vfrantc/dehaze_detect/blob/main/evaluate_detection.ipynb\" target=\"_parent\"><img src=\"https://colab.research.google.com/assets/colab-badge.svg\" alt=\"Open In Colab\"/></a>"
      ]
    },
    {
      "cell_type": "code",
      "metadata": {
        "colab": {
          "base_uri": "https://localhost:8080/"
        },
        "id": "uIQCp8e2_8Bp",
        "outputId": "3bb6df8c-eaa0-4852-a108-e82b6d540c6f"
      },
      "source": [
        "!nvidia-smi"
      ],
      "execution_count": 3,
      "outputs": [
        {
          "output_type": "stream",
          "name": "stdout",
          "text": [
            "Mon Nov  8 09:51:02 2021       \n",
            "+-----------------------------------------------------------------------------+\n",
            "| NVIDIA-SMI 495.44       Driver Version: 460.32.03    CUDA Version: 11.2     |\n",
            "|-------------------------------+----------------------+----------------------+\n",
            "| GPU  Name        Persistence-M| Bus-Id        Disp.A | Volatile Uncorr. ECC |\n",
            "| Fan  Temp  Perf  Pwr:Usage/Cap|         Memory-Usage | GPU-Util  Compute M. |\n",
            "|                               |                      |               MIG M. |\n",
            "|===============================+======================+======================|\n",
            "|   0  Tesla P100-PCIE...  Off  | 00000000:00:04.0 Off |                    0 |\n",
            "| N/A   40C    P0    28W / 250W |      0MiB / 16280MiB |      0%      Default |\n",
            "|                               |                      |                  N/A |\n",
            "+-------------------------------+----------------------+----------------------+\n",
            "                                                                               \n",
            "+-----------------------------------------------------------------------------+\n",
            "| Processes:                                                                  |\n",
            "|  GPU   GI   CI        PID   Type   Process name                  GPU Memory |\n",
            "|        ID   ID                                                   Usage      |\n",
            "|=============================================================================|\n",
            "|  No running processes found                                                 |\n",
            "+-----------------------------------------------------------------------------+\n"
          ]
        }
      ]
    },
    {
      "cell_type": "code",
      "metadata": {
        "colab": {
          "base_uri": "https://localhost:8080/"
        },
        "id": "on0DGQ9zQNdF",
        "outputId": "c2345f37-981a-420b-ac62-9118d0d633d4"
      },
      "source": [
        "from google.colab import drive\n",
        "drive.mount('drive')"
      ],
      "execution_count": 4,
      "outputs": [
        {
          "output_type": "stream",
          "name": "stdout",
          "text": [
            "Drive already mounted at drive; to attempt to forcibly remount, call drive.mount(\"drive\", force_remount=True).\n"
          ]
        }
      ]
    },
    {
      "cell_type": "markdown",
      "metadata": {
        "id": "SAF6J23sVoPA"
      },
      "source": [
        "# RUN DETECTOR ON UNPROCESSED IMAGES"
      ]
    },
    {
      "cell_type": "code",
      "metadata": {
        "colab": {
          "base_uri": "https://localhost:8080/",
          "height": 1000
        },
        "id": "8eRTCAE3S8j0",
        "outputId": "dd89d737-401e-442e-d9f2-744ec1f13a42"
      },
      "source": [
        "!pip install mmcv-full\n",
        "!rm -rf mmdetection\n",
        "!git clone https://github.com/open-mmlab/mmdetection.git\n",
        "%cd mmdetection\n",
        "!pip install -e .\n",
        "!pip install Pillow==7.0.0"
      ],
      "execution_count": 3,
      "outputs": [
        {
          "output_type": "stream",
          "name": "stdout",
          "text": [
            "Collecting mmcv-full\n",
            "  Downloading mmcv-full-1.3.16.tar.gz (389 kB)\n",
            "\u001b[K     |████████████████████████████████| 389 kB 13.1 MB/s \n",
            "\u001b[?25hCollecting addict\n",
            "  Downloading addict-2.4.0-py3-none-any.whl (3.8 kB)\n",
            "Requirement already satisfied: numpy in /usr/local/lib/python3.7/dist-packages (from mmcv-full) (1.19.5)\n",
            "Requirement already satisfied: packaging in /usr/local/lib/python3.7/dist-packages (from mmcv-full) (21.0)\n",
            "Requirement already satisfied: Pillow in /usr/local/lib/python3.7/dist-packages (from mmcv-full) (7.1.2)\n",
            "Requirement already satisfied: pyyaml in /usr/local/lib/python3.7/dist-packages (from mmcv-full) (3.13)\n",
            "Collecting yapf\n",
            "  Downloading yapf-0.31.0-py2.py3-none-any.whl (185 kB)\n",
            "\u001b[K     |████████████████████████████████| 185 kB 67.4 MB/s \n",
            "\u001b[?25hRequirement already satisfied: pyparsing>=2.0.2 in /usr/local/lib/python3.7/dist-packages (from packaging->mmcv-full) (2.4.7)\n",
            "Building wheels for collected packages: mmcv-full\n",
            "  Building wheel for mmcv-full (setup.py) ... \u001b[?25l\u001b[?25hdone\n",
            "  Created wheel for mmcv-full: filename=mmcv_full-1.3.16-cp37-cp37m-linux_x86_64.whl size=43446760 sha256=8aead6dd55754e4cb5eef91f2a1f95da1758ad2853b94212e0fd366b11f8d90d\n",
            "  Stored in directory: /root/.cache/pip/wheels/ea/0a/1e/95428dfef725d66e6693b61180b928c293489b6d13df3ae0e2\n",
            "Successfully built mmcv-full\n",
            "Installing collected packages: yapf, addict, mmcv-full\n",
            "Successfully installed addict-2.4.0 mmcv-full-1.3.16 yapf-0.31.0\n",
            "Cloning into 'mmdetection'...\n",
            "remote: Enumerating objects: 21556, done.\u001b[K\n",
            "remote: Counting objects: 100% (6/6), done.\u001b[K\n",
            "remote: Compressing objects: 100% (5/5), done.\u001b[K\n",
            "remote: Total 21556 (delta 1), reused 3 (delta 1), pack-reused 21550\u001b[K\n",
            "Receiving objects: 100% (21556/21556), 25.07 MiB | 21.25 MiB/s, done.\n",
            "Resolving deltas: 100% (15129/15129), done.\n",
            "/content/mmdetection\n",
            "Obtaining file:///content/mmdetection\n",
            "Requirement already satisfied: matplotlib in /usr/local/lib/python3.7/dist-packages (from mmdet==2.18.0) (3.2.2)\n",
            "Requirement already satisfied: numpy in /usr/local/lib/python3.7/dist-packages (from mmdet==2.18.0) (1.19.5)\n",
            "Requirement already satisfied: six in /usr/local/lib/python3.7/dist-packages (from mmdet==2.18.0) (1.15.0)\n",
            "Collecting terminaltables\n",
            "  Downloading terminaltables-3.1.0.tar.gz (12 kB)\n",
            "Requirement already satisfied: pycocotools in /usr/local/lib/python3.7/dist-packages (from mmdet==2.18.0) (2.0.2)\n",
            "Requirement already satisfied: cycler>=0.10 in /usr/local/lib/python3.7/dist-packages (from matplotlib->mmdet==2.18.0) (0.10.0)\n",
            "Requirement already satisfied: python-dateutil>=2.1 in /usr/local/lib/python3.7/dist-packages (from matplotlib->mmdet==2.18.0) (2.8.2)\n",
            "Requirement already satisfied: kiwisolver>=1.0.1 in /usr/local/lib/python3.7/dist-packages (from matplotlib->mmdet==2.18.0) (1.3.2)\n",
            "Requirement already satisfied: pyparsing!=2.0.4,!=2.1.2,!=2.1.6,>=2.0.1 in /usr/local/lib/python3.7/dist-packages (from matplotlib->mmdet==2.18.0) (2.4.7)\n",
            "Requirement already satisfied: setuptools>=18.0 in /usr/local/lib/python3.7/dist-packages (from pycocotools->mmdet==2.18.0) (57.4.0)\n",
            "Requirement already satisfied: cython>=0.27.3 in /usr/local/lib/python3.7/dist-packages (from pycocotools->mmdet==2.18.0) (0.29.24)\n",
            "Building wheels for collected packages: terminaltables\n",
            "  Building wheel for terminaltables (setup.py) ... \u001b[?25l\u001b[?25hdone\n",
            "  Created wheel for terminaltables: filename=terminaltables-3.1.0-py3-none-any.whl size=15354 sha256=386b5674f5c817691a35ec11f5141374400d7913e49ad3de1a6c452c98288938\n",
            "  Stored in directory: /root/.cache/pip/wheels/ba/ad/c8/2d98360791161cd3db6daf6b5e730f34021fc9367d5879f497\n",
            "Successfully built terminaltables\n",
            "Installing collected packages: terminaltables, mmdet\n",
            "  Running setup.py develop for mmdet\n",
            "Successfully installed mmdet-2.18.0 terminaltables-3.1.0\n",
            "Collecting Pillow==7.0.0\n",
            "  Downloading Pillow-7.0.0-cp37-cp37m-manylinux1_x86_64.whl (2.1 MB)\n",
            "\u001b[K     |████████████████████████████████| 2.1 MB 14.9 MB/s \n",
            "\u001b[?25hInstalling collected packages: Pillow\n",
            "  Attempting uninstall: Pillow\n",
            "    Found existing installation: Pillow 7.1.2\n",
            "    Uninstalling Pillow-7.1.2:\n",
            "      Successfully uninstalled Pillow-7.1.2\n",
            "\u001b[31mERROR: pip's dependency resolver does not currently take into account all the packages that are installed. This behaviour is the source of the following dependency conflicts.\n",
            "bokeh 2.3.3 requires pillow>=7.1.0, but you have pillow 7.0.0 which is incompatible.\n",
            "albumentations 0.1.12 requires imgaug<0.2.7,>=0.2.5, but you have imgaug 0.2.9 which is incompatible.\u001b[0m\n",
            "Successfully installed Pillow-7.0.0\n"
          ]
        },
        {
          "output_type": "display_data",
          "data": {
            "application/vnd.colab-display-data+json": {
              "pip_warning": {
                "packages": [
                  "PIL"
                ]
              }
            }
          },
          "metadata": {}
        }
      ]
    },
    {
      "cell_type": "code",
      "metadata": {
        "colab": {
          "base_uri": "https://localhost:8080/"
        },
        "id": "ky5w1Q0gYBZk",
        "outputId": "6870583e-3897-4499-d394-320b6d264af8"
      },
      "source": [
        "!mkdir checkpoints\n",
        "!wget -c https://download.openmmlab.com/mmdetection/v2.0/scnet/scnet_x101_64x4d_fpn_20e_coco/scnet_x101_64x4d_fpn_20e_coco-fb09dec9.pth \\\n",
        "      -O checkpoints/scnet_x101_64x4d_fpn_20e_coco-fb09dec9.pth"
      ],
      "execution_count": 4,
      "outputs": [
        {
          "output_type": "stream",
          "name": "stdout",
          "text": [
            "--2021-11-08 08:59:43--  https://download.openmmlab.com/mmdetection/v2.0/scnet/scnet_x101_64x4d_fpn_20e_coco/scnet_x101_64x4d_fpn_20e_coco-fb09dec9.pth\n",
            "Resolving download.openmmlab.com (download.openmmlab.com)... 47.254.186.246\n",
            "Connecting to download.openmmlab.com (download.openmmlab.com)|47.254.186.246|:443... connected.\n",
            "HTTP request sent, awaiting response... 200 OK\n",
            "Length: 611860651 (584M) [application/octet-stream]\n",
            "Saving to: ‘checkpoints/scnet_x101_64x4d_fpn_20e_coco-fb09dec9.pth’\n",
            "\n",
            "checkpoints/scnet_x 100%[===================>] 583.52M  11.5MB/s    in 55s     \n",
            "\n",
            "2021-11-08 09:00:39 (10.7 MB/s) - ‘checkpoints/scnet_x101_64x4d_fpn_20e_coco-fb09dec9.pth’ saved [611860651/611860651]\n",
            "\n"
          ]
        }
      ]
    },
    {
      "cell_type": "code",
      "metadata": {
        "colab": {
          "base_uri": "https://localhost:8080/"
        },
        "id": "wnLCj-z19hJq",
        "outputId": "4ab792b6-52db-4588-de0d-df853d0f818c"
      },
      "source": [
        "%cd mmdetection"
      ],
      "execution_count": 6,
      "outputs": [
        {
          "output_type": "stream",
          "name": "stdout",
          "text": [
            "/content/mmdetection\n"
          ]
        }
      ]
    },
    {
      "cell_type": "code",
      "metadata": {
        "colab": {
          "base_uri": "https://localhost:8080/"
        },
        "id": "qvNCLzC_Tc7O",
        "outputId": "f4627df2-41c5-462f-baa7-d30c97d40c05"
      },
      "source": [
        "from glob import glob\n",
        "import os\n",
        "\n",
        "from mmcv import Config\n",
        "from mmdet.datasets import build_dataset\n",
        "from mmdet.datasets import build_dataloader\n",
        "from mmdet.apis import single_gpu_test\n",
        "from mmcv.parallel import MMDataParallel\n",
        "from mmdet.apis import inference_detector, init_detector, show_result_pyplot\n",
        "\n",
        "config = 'configs/scnet/scnet_x101_64x4d_fpn_20e_coco.py'\n",
        "checkpoint = 'checkpoints/scnet_x101_64x4d_fpn_20e_coco-fb09dec9.pth'\n",
        "model = init_detector(config, checkpoint, device='cuda:0')\n",
        "model = MMDataParallel(model, device_ids=[0])"
      ],
      "execution_count": 7,
      "outputs": [
        {
          "output_type": "stream",
          "name": "stdout",
          "text": [
            "Use load_from_local loader\n"
          ]
        }
      ]
    },
    {
      "cell_type": "code",
      "metadata": {
        "id": "AdwYSkrMzkJD"
      },
      "source": [
        "def create_dataset(folder):\n",
        "  cfg = Config.fromfile('./configs/scnet/scnet_x101_64x4d_fpn_20e_coco.py')\n",
        "  cfg.dataset_type = 'CocoDataset'\n",
        "  PREFIX = folder\n",
        "  cfg.data.test.img_prefix = folder\n",
        "  cfg.data.test.ann_file = os.path.join(PREFIX, 'new_test.json')\n",
        "  cfg.data.test.type = 'CocoDataset'\n",
        "  dataset = build_dataset(cfg.data.test)\n",
        "  #dataset.CLASSES = classes\n",
        "  #dataset.cat_ids = list(range(len(dataset.CLASSES)))\n",
        "  data_loader = build_dataloader(dataset, samples_per_gpu=1, workers_per_gpu=2, dist=False, shuffle=False)\n",
        "  return dataset, data_loader"
      ],
      "execution_count": 8,
      "outputs": []
    },
    {
      "cell_type": "code",
      "metadata": {
        "id": "ymWjae-uCQbs"
      },
      "source": [
        "!cp /content/drive/MyDrive/hazy_detect/out_gca.zip .\n",
        "!cp /content/drive/MyDrive/hazy_detect/dcp_coco.zip . \n",
        "!cp /content/drive/MyDrive/hazy_detect/out_refined.tar.gz .\n",
        "!cp /content/drive/MyDrive/hazy_detect/dehazenet_coco.zip .\n",
        "!cp /content/drive/MyDrive/hazy_detect/ide_coco.zip ."
      ],
      "execution_count": 8,
      "outputs": []
    },
    {
      "cell_type": "code",
      "metadata": {
        "id": "o6HTXyAnCReo",
        "colab": {
          "base_uri": "https://localhost:8080/"
        },
        "outputId": "5f921dcd-3704-4532-a0a0-4f4a5599374f"
      },
      "source": [
        "!unzip -q out_gca.zip\n",
        "!unzip -q dcp_coco.zip\n",
        "!tar xzvf out_refined.tar.gz\n",
        "!unzip -q dehazenet_coco.zip\n",
        "!unzip -q ide_coco.zip"
      ],
      "execution_count": 9,
      "outputs": [
        {
          "output_type": "stream",
          "name": "stdout",
          "text": [
            "out_refined/\n",
            "out_refined/new_test.json\n"
          ]
        }
      ]
    },
    {
      "cell_type": "markdown",
      "metadata": {
        "id": "Q4OO8u7l7eRR"
      },
      "source": [
        "### gca"
      ]
    },
    {
      "cell_type": "code",
      "metadata": {
        "id": "hh7yyf5LWIC-"
      },
      "source": [
        "!cp /content/drive/MyDrive/new_test.json out_gca"
      ],
      "execution_count": 9,
      "outputs": []
    },
    {
      "cell_type": "code",
      "metadata": {
        "colab": {
          "base_uri": "https://localhost:8080/"
        },
        "id": "moc3Kw7O6aBS",
        "outputId": "096bd65a-73d6-4072-cf6c-7b4d809f5df9"
      },
      "source": [
        "method = 'out_gca'\n",
        "!mkdir out_{method}\n",
        "dataset, data_loader = create_dataset(f'./{method}')\n",
        "outputs = single_gpu_test(model, data_loader, True, f'./out_{method}', 0.3)\n"
      ],
      "execution_count": null,
      "outputs": [
        {
          "metadata": {
            "tags": null
          },
          "name": "stdout",
          "output_type": "stream",
          "text": [
            "mkdir: cannot create directory ‘out_out_gca’: File exists\n",
            "loading annotations into memory...\n",
            "Done (t=0.27s)\n",
            "creating index...\n",
            "index created!\n",
            "[                                                  ] 0/4320, elapsed: 0s, ETA:"
          ]
        },
        {
          "metadata": {
            "tags": null
          },
          "name": "stderr",
          "output_type": "stream",
          "text": [
            "/usr/local/lib/python3.7/dist-packages/torch/nn/functional.py:718: UserWarning: Named tensors and all their associated APIs are an experimental feature and subject to change. Please do not use them for anything important until they are released as stable. (Triggered internally at  /pytorch/c10/core/TensorImpl.h:1156.)\n",
            "  return torch.max_pool2d(input, kernel_size, stride, padding, dilation, ceil_mode)\n"
          ]
        },
        {
          "output_type": "stream",
          "name": "stdout",
          "text": [
            "[>>>>>>>>>>>>>>>>>>        ] 3064/4320, 1.5 task/s, elapsed: 2088s, ETA:   856s"
          ]
        }
      ]
    },
    {
      "cell_type": "code",
      "metadata": {
        "id": "ioF79C-i0trB"
      },
      "source": [
        "# post-process the detection to make sure that we use only the correct ones"
      ],
      "execution_count": null,
      "outputs": []
    },
    {
      "cell_type": "code",
      "metadata": {
        "id": "YfVbrOcG9zXi"
      },
      "source": [
        "dataset.cat_ids.append(91)\n",
        "metric = dataset.evaluate(outputs, metric='bbox')"
      ],
      "execution_count": null,
      "outputs": []
    },
    {
      "cell_type": "code",
      "metadata": {
        "id": "QH-Ku3Ag0txL"
      },
      "source": [
        ""
      ],
      "execution_count": null,
      "outputs": []
    },
    {
      "cell_type": "code",
      "metadata": {
        "id": "Euiyulfhi8c1"
      },
      "source": [
        "!tar czf detected_gca.tar.gz out_out_gca/\n",
        "!cp detected_gca.tar.gz /content/drive/MyDrive/new_detect"
      ],
      "execution_count": null,
      "outputs": []
    },
    {
      "cell_type": "markdown",
      "metadata": {
        "id": "78IJDfsH8A98"
      },
      "source": [
        "### dcp\n"
      ]
    },
    {
      "cell_type": "code",
      "metadata": {
        "id": "0nLvJU7m6gIR"
      },
      "source": [
        "method = 'dcp_coco'\n",
        "dataset, data_loader = create_dataset(f'./{method}')\n",
        "dataset.cat_ids.append(91)\n",
        "outputs = single_gpu_test(model, data_loader, True, f'./out_{method}', 0.3)\n",
        "metric = dataset.evaluate(outputs, metric='bbox')"
      ],
      "execution_count": null,
      "outputs": []
    },
    {
      "cell_type": "code",
      "metadata": {
        "id": "9ZDyAeC2CsG6"
      },
      "source": [
        "!tar czf detected_dcp.tar.gz out_dcp_coco/\n",
        "!cp -r detected_dcp.tar.gz /content/drive/MyDrive/new_detect"
      ],
      "execution_count": null,
      "outputs": []
    },
    {
      "cell_type": "markdown",
      "metadata": {
        "id": "KC9iTRNFCb5c"
      },
      "source": [
        "### Refined"
      ]
    },
    {
      "cell_type": "code",
      "metadata": {
        "id": "6L5okems6VV4"
      },
      "source": [
        "!cp /content/drive/MyDrive/new_test.json out_refined"
      ],
      "execution_count": null,
      "outputs": []
    },
    {
      "cell_type": "code",
      "metadata": {
        "id": "Uu7FH9CU7AR4"
      },
      "source": [
        "!ls out_refined/JPEGImages"
      ],
      "execution_count": null,
      "outputs": []
    },
    {
      "cell_type": "code",
      "metadata": {
        "id": "UDNtDvt76kOQ"
      },
      "source": [
        "method = 'out_refined'\n",
        "!rm -rf out_out_refined\n",
        "!mkdir out_{method}\n",
        "dataset, data_loader = create_dataset(f'./{method}')\n",
        "dataset.cat_ids.append(91)\n",
        "outputs = single_gpu_test(model, data_loader, True, f'./out_{method}', 0.3)\n",
        "metric = dataset.evaluate(outputs, metric='bbox')"
      ],
      "execution_count": null,
      "outputs": []
    },
    {
      "cell_type": "code",
      "metadata": {
        "id": "PW-vGzOpKVs2"
      },
      "source": [
        "!tar czf detected_refined.tar.gz out_out_refined/\n",
        "!cp -r detected_refined.tar.gz /content/drive/MyDrive/new_detect"
      ],
      "execution_count": null,
      "outputs": []
    },
    {
      "cell_type": "markdown",
      "metadata": {
        "id": "ch8UqLIDCeB3"
      },
      "source": [
        "# Dehazenet"
      ]
    },
    {
      "cell_type": "code",
      "metadata": {
        "id": "_jzT0DETBlpy"
      },
      "source": [
        "method = 'dehazenet_coco'\n",
        "!mkdir out_{method}\n",
        "dataset, data_loader = create_dataset(f'./{method}')\n",
        "dataset.cat_ids.append(91)\n",
        "outputs = single_gpu_test(model, data_loader, True, f'./out_{method}', 0.3)\n",
        "metric = dataset.evaluate(outputs, metric='bbox')"
      ],
      "execution_count": null,
      "outputs": []
    },
    {
      "cell_type": "code",
      "metadata": {
        "id": "wFC_0kpsKgqW"
      },
      "source": [
        "!tar czf detected_dehazenet.tar out_dehazenet/\n",
        "!cp -r detected_dehazenet.zip /content/drive/MyDrive/new_detect"
      ],
      "execution_count": null,
      "outputs": []
    },
    {
      "cell_type": "markdown",
      "metadata": {
        "id": "y_4VXMH-CgFE"
      },
      "source": [
        "# IDE"
      ]
    },
    {
      "cell_type": "code",
      "metadata": {
        "id": "lAGnp59wBmEk"
      },
      "source": [
        "method = 'dide_coco'\n",
        "!cp /content/drive/MyDrive/new_test.json dide_coco\n",
        "!mkdir out_{method}\n",
        "dataset, data_loader = create_dataset(f'./{method}')\n",
        "dataset.cat_ids.append(91)\n",
        "outputs = single_gpu_test(model, data_loader, True, f'./out_{method}', 0.3)\n",
        "metric = dataset.evaluate(outputs, metric='bbox')"
      ],
      "execution_count": null,
      "outputs": []
    },
    {
      "cell_type": "code",
      "metadata": {
        "id": "L1dlZ7E0LCWl"
      },
      "source": [
        "!tar czf detected_ide.tar.gz out_ide_coco/\n",
        "!cp -r detected_ide.tar.gz /content/drive/MyDrive/new_detect"
      ],
      "execution_count": null,
      "outputs": []
    },
    {
      "cell_type": "markdown",
      "metadata": {
        "id": "eYu6e-roCiRh"
      },
      "source": [
        "# RTTS"
      ]
    },
    {
      "cell_type": "code",
      "metadata": {
        "id": "XzC1WUj9casv"
      },
      "source": [
        "!rm -rf rtts_coco\n",
        "!cp /content/mmdetection/drive/MyDrive/haze/data/RTTS.zip .\n",
        "!unzip -q RTTS.zip\n",
        "!mv RTTS rtts_coco \n",
        "!cp /content/mmdetection/drive/MyDrive/new_test.json rtts_coco"
      ],
      "execution_count": null,
      "outputs": []
    },
    {
      "cell_type": "code",
      "metadata": {
        "id": "oMGQr2dbBohB"
      },
      "source": [
        "method = 'rtts_coco'\n",
        "!mkdir out_{method}\n",
        "dataset, data_loader = create_dataset(f'./{method}')\n",
        "dataset.cat_ids.append(91)\n",
        "outputs = single_gpu_test(model, data_loader, True, f'./out_{method}', 0.3)\n",
        "metric = dataset.evaluate(outputs, metric='bbox')"
      ],
      "execution_count": null,
      "outputs": []
    },
    {
      "cell_type": "code",
      "metadata": {
        "id": "-7BVF4PQLVoc"
      },
      "source": [
        "!tar czf detected_rtts_coco.tar.gz out_rtts_coco/\n",
        "!cp -r detected_rtts_coco.tar.gz /content/drive/MyDrive/new_detect"
      ],
      "execution_count": null,
      "outputs": []
    },
    {
      "cell_type": "code",
      "metadata": {
        "id": "-oqGmdShMDIL"
      },
      "source": [
        ""
      ],
      "execution_count": null,
      "outputs": []
    }
  ]
}