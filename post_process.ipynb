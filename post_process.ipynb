{
  "nbformat": 4,
  "nbformat_minor": 0,
  "metadata": {
    "colab": {
      "name": "post_process.ipynb",
      "provenance": [],
      "authorship_tag": "ABX9TyPXMvsejEQGsMUfDTdybaUB",
      "include_colab_link": true
    },
    "kernelspec": {
      "name": "python3",
      "display_name": "Python 3"
    },
    "language_info": {
      "name": "python"
    }
  },
  "cells": [
    {
      "cell_type": "markdown",
      "metadata": {
        "id": "view-in-github",
        "colab_type": "text"
      },
      "source": [
        "<a href=\"https://colab.research.google.com/github/vfrantc/dehaze_detect/blob/main/post_process.ipynb\" target=\"_parent\"><img src=\"https://colab.research.google.com/assets/colab-badge.svg\" alt=\"Open In Colab\"/></a>"
      ]
    },
    {
      "cell_type": "code",
      "metadata": {
        "id": "uAX3CVssWc4u"
      },
      "source": [
        "import os\n",
        "import json\n",
        "from google.colab import drive"
      ],
      "execution_count": 3,
      "outputs": []
    },
    {
      "cell_type": "code",
      "metadata": {
        "colab": {
          "base_uri": "https://localhost:8080/"
        },
        "id": "slbA4xxkWgVa",
        "outputId": "ad6e597b-5277-4f3a-9691-92c95f41e20c"
      },
      "source": [
        "drive.mount('drive')"
      ],
      "execution_count": 4,
      "outputs": [
        {
          "output_type": "stream",
          "name": "stdout",
          "text": [
            "Mounted at drive\n"
          ]
        }
      ]
    },
    {
      "cell_type": "code",
      "metadata": {
        "id": "cWdWb0F5Wqx7"
      },
      "source": [
        "!cp -r /content/drive/MyDrive/new_test.json .\n",
        "!ls -la new_test.json "
      ],
      "execution_count": 8,
      "outputs": []
    },
    {
      "cell_type": "code",
      "metadata": {
        "id": "pgmhPrFhXCNv"
      },
      "source": [
        "with open('/content/drive/MyDrive/new_test.json') as f:\n",
        "  data = json.load(f)"
      ],
      "execution_count": 10,
      "outputs": []
    },
    {
      "cell_type": "code",
      "metadata": {
        "colab": {
          "base_uri": "https://localhost:8080/"
        },
        "id": "3sJDmtXlacxx",
        "outputId": "f5fafae1-fbfa-418f-a0c3-2cdcac802e03"
      },
      "source": [
        "data.keys()"
      ],
      "execution_count": 12,
      "outputs": [
        {
          "output_type": "execute_result",
          "data": {
            "text/plain": [
              "dict_keys(['images', 'type', 'categories', 'annotations'])"
            ]
          },
          "metadata": {},
          "execution_count": 12
        }
      ]
    },
    {
      "cell_type": "code",
      "metadata": {
        "colab": {
          "base_uri": "https://localhost:8080/"
        },
        "id": "RBgw3A8gXkao",
        "outputId": "a07b3c58-d9d8-4b26-c9fb-4ffa52eba772"
      },
      "source": [
        "set([ann['category_id'] for ann in data['annotations']])"
      ],
      "execution_count": 16,
      "outputs": [
        {
          "output_type": "execute_result",
          "data": {
            "text/plain": [
              "{1, 2, 3, 4, 6}"
            ]
          },
          "metadata": {},
          "execution_count": 16
        }
      ]
    },
    {
      "cell_type": "code",
      "metadata": {
        "id": "tN8ftLOXcm2O"
      },
      "source": [
        "# 8 -> 3\n",
        "# remove 5, and 7 - 63"
      ],
      "execution_count": null,
      "outputs": []
    },
    {
      "cell_type": "code",
      "metadata": {
        "id": "m_zz3F7Sch-c"
      },
      "source": [
        "{'id': 1, 'name': 'person', 'supercategory': 'none'},\n",
        " {'id': 2, 'name': 'bicycle', 'supercategory': 'none'},\n",
        " {'id': 3, 'name': 'car', 'supercategory': 'none'},\n",
        " {'id': 4, 'name': 'motorbike', 'supercategory': 'none'},\n",
        " {'id': 6, 'name': 'bus', 'supercategory': 'none'},\n",
        " {'id': 8, 'name': 'truck', 'supercategory': 'none'},"
      ],
      "execution_count": null,
      "outputs": []
    },
    {
      "cell_type": "code",
      "metadata": {
        "colab": {
          "base_uri": "https://localhost:8080/"
        },
        "id": "DV_8Z8Hia1an",
        "outputId": "9bc452f4-d72d-448a-9f62-d5bd72f08025"
      },
      "source": [
        "data['categories']"
      ],
      "execution_count": 18,
      "outputs": [
        {
          "output_type": "execute_result",
          "data": {
            "text/plain": [
              "[{'id': 1, 'name': 'person', 'supercategory': 'none'},\n",
              " {'id': 2, 'name': 'bicycle', 'supercategory': 'none'},\n",
              " {'id': 3, 'name': 'car', 'supercategory': 'none'},\n",
              " {'id': 4, 'name': 'motorbike', 'supercategory': 'none'},\n",
              " {'id': 5, 'name': 'airplane', 'supercategory': 'none'},\n",
              " {'id': 6, 'name': 'bus', 'supercategory': 'none'},\n",
              " {'id': 7, 'name': 'train', 'supercategory': 'none'},\n",
              " {'id': 8, 'name': 'truck', 'supercategory': 'none'},\n",
              " {'id': 9, 'name': 'boat', 'supercategory': 'none'},\n",
              " {'id': 10, 'name': 'traffic light', 'supercategory': 'none'},\n",
              " {'id': 11, 'name': 'fire hydrant', 'supercategory': 'none'},\n",
              " {'id': 13, 'name': 'stop sign', 'supercategory': 'none'},\n",
              " {'id': 14, 'name': 'parking meter', 'supercategory': 'none'},\n",
              " {'id': 15, 'name': 'bench', 'supercategory': 'none'},\n",
              " {'id': 16, 'name': 'bird', 'supercategory': 'none'},\n",
              " {'id': 17, 'name': 'cat', 'supercategory': 'none'},\n",
              " {'id': 18, 'name': 'dog', 'supercategory': 'none'},\n",
              " {'id': 19, 'name': 'horse', 'supercategory': 'none'},\n",
              " {'id': 20, 'name': 'sheep', 'supercategory': 'none'},\n",
              " {'id': 21, 'name': 'cow', 'supercategory': 'none'},\n",
              " {'id': 22, 'name': 'elephant', 'supercategory': 'none'},\n",
              " {'id': 23, 'name': 'bear', 'supercategory': 'none'},\n",
              " {'id': 24, 'name': 'zebra', 'supercategory': 'none'},\n",
              " {'id': 25, 'name': 'giraffe', 'supercategory': 'none'},\n",
              " {'id': 27, 'name': 'backpack', 'supercategory': 'none'},\n",
              " {'id': 28, 'name': 'umbrella', 'supercategory': 'none'},\n",
              " {'id': 31, 'name': 'handbag', 'supercategory': 'none'},\n",
              " {'id': 32, 'name': 'tie', 'supercategory': 'none'},\n",
              " {'id': 33, 'name': 'suitcase', 'supercategory': 'none'},\n",
              " {'id': 34, 'name': 'frisbee', 'supercategory': 'none'},\n",
              " {'id': 35, 'name': 'skis', 'supercategory': 'none'},\n",
              " {'id': 36, 'name': 'snowboard', 'supercategory': 'none'},\n",
              " {'id': 37, 'name': 'sports ball', 'supercategory': 'none'},\n",
              " {'id': 38, 'name': 'kite', 'supercategory': 'none'},\n",
              " {'id': 39, 'name': 'baseball bat', 'supercategory': 'none'},\n",
              " {'id': 40, 'name': 'baseball glove', 'supercategory': 'none'},\n",
              " {'id': 41, 'name': 'skateboard', 'supercategory': 'none'},\n",
              " {'id': 42, 'name': 'surfboard', 'supercategory': 'none'},\n",
              " {'id': 43, 'name': 'tennis racket', 'supercategory': 'none'},\n",
              " {'id': 44, 'name': 'bottle', 'supercategory': 'none'},\n",
              " {'id': 46, 'name': 'wine glass', 'supercategory': 'none'},\n",
              " {'id': 47, 'name': 'cup', 'supercategory': 'none'},\n",
              " {'id': 48, 'name': 'fork', 'supercategory': 'none'},\n",
              " {'id': 49, 'name': 'knife', 'supercategory': 'none'},\n",
              " {'id': 50, 'name': 'spoon', 'supercategory': 'none'},\n",
              " {'id': 51, 'name': 'bowl', 'supercategory': 'none'},\n",
              " {'id': 52, 'name': 'banana', 'supercategory': 'none'},\n",
              " {'id': 53, 'name': 'apple', 'supercategory': 'none'},\n",
              " {'id': 54, 'name': 'sandwich', 'supercategory': 'none'},\n",
              " {'id': 55, 'name': 'orange', 'supercategory': 'none'},\n",
              " {'id': 56, 'name': 'broccoli', 'supercategory': 'none'},\n",
              " {'id': 57, 'name': 'carrot', 'supercategory': 'none'},\n",
              " {'id': 58, 'name': 'hot dog', 'supercategory': 'none'},\n",
              " {'id': 59, 'name': 'pizza', 'supercategory': 'none'},\n",
              " {'id': 60, 'name': 'donut', 'supercategory': 'none'},\n",
              " {'id': 61, 'name': 'cake', 'supercategory': 'none'},\n",
              " {'id': 62, 'name': 'chair', 'supercategory': 'none'},\n",
              " {'id': 63, 'name': 'couch', 'supercategory': 'none'},\n",
              " {'id': 64, 'name': 'potted plant', 'supercategory': 'none'},\n",
              " {'id': 65, 'name': 'bed', 'supercategory': 'none'},\n",
              " {'id': 67, 'name': 'dining table', 'supercategory': 'none'},\n",
              " {'id': 70, 'name': 'toilet', 'supercategory': 'none'},\n",
              " {'id': 72, 'name': 'tv', 'supercategory': 'none'},\n",
              " {'id': 73, 'name': 'laptop', 'supercategory': 'none'},\n",
              " {'id': 74, 'name': 'mouse', 'supercategory': 'none'},\n",
              " {'id': 75, 'name': 'remote', 'supercategory': 'none'},\n",
              " {'id': 76, 'name': 'keyboard', 'supercategory': 'none'},\n",
              " {'id': 77, 'name': 'cell phone', 'supercategory': 'none'},\n",
              " {'id': 78, 'name': 'microwave', 'supercategory': 'none'},\n",
              " {'id': 79, 'name': 'oven', 'supercategory': 'none'},\n",
              " {'id': 80, 'name': 'toaster', 'supercategory': 'none'},\n",
              " {'id': 81, 'name': 'sink', 'supercategory': 'none'},\n",
              " {'id': 82, 'name': 'refrigerator', 'supercategory': 'none'},\n",
              " {'id': 84, 'name': 'book', 'supercategory': 'none'},\n",
              " {'id': 85, 'name': 'clock', 'supercategory': 'none'},\n",
              " {'id': 86, 'name': 'vase', 'supercategory': 'none'},\n",
              " {'id': 87, 'name': 'scissors', 'supercategory': 'none'},\n",
              " {'id': 88, 'name': 'teddy bear', 'supercategory': 'none'},\n",
              " {'id': 89, 'name': 'hair drier', 'supercategory': 'none'},\n",
              " {'id': 90, 'name': 'toothbrush', 'supercategory': 'none'}]"
            ]
          },
          "metadata": {},
          "execution_count": 18
        }
      ]
    },
    {
      "cell_type": "code",
      "metadata": {
        "id": "7FYIoH6ua1dg"
      },
      "source": [
        ""
      ],
      "execution_count": null,
      "outputs": []
    },
    {
      "cell_type": "code",
      "metadata": {
        "id": "jnqdn2Tsa1go"
      },
      "source": [
        "with open('new_new_test.json', 'w') as json_file:\n",
        "  json.dump(data, json_file)"
      ],
      "execution_count": null,
      "outputs": []
    }
  ]
}